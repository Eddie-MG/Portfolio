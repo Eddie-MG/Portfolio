{
 "cells": [
  {
   "cell_type": "markdown",
   "metadata": {},
   "source": [
    "Two functions were written oneis used to unpickle all the batches and the second is used to convert the unpickled data back into an image-like array."
   ]
  },
  {
   "cell_type": "code",
   "execution_count": 1,
   "metadata": {},
   "outputs": [],
   "source": [
    "def unpickle(file):\n",
    "    import pickle\n",
    "    with open(file, 'rb') as fo:\n",
    "        dict = pickle.load(fo, encoding='bytes')\n",
    "    return dict"
   ]
  },
  {
   "cell_type": "code",
   "execution_count": 2,
   "metadata": {},
   "outputs": [],
   "source": [
    "batch_1 = unpickle('cifar-10-batches-py/data_batch_1')\n",
    "batch_2 = unpickle('cifar-10-batches-py/data_batch_2')\n",
    "batch_3 = unpickle('cifar-10-batches-py/data_batch_3')\n",
    "batch_4 = unpickle('cifar-10-batches-py/data_batch_4')\n",
    "batch_5 = unpickle('cifar-10-batches-py/data_batch_5')\n",
    "batch_test = unpickle('cifar-10-batches-py/test_batch')"
   ]
  },
  {
   "cell_type": "code",
   "execution_count": 3,
   "metadata": {},
   "outputs": [],
   "source": [
    "def img_process(arr):\n",
    "    im_list = []\n",
    "    for img in arr:\n",
    "        im_list.append(img.reshape((32,32,3)))\n",
    "    return np.array(im_list)"
   ]
  },
  {
   "cell_type": "code",
   "execution_count": 5,
   "metadata": {},
   "outputs": [
    {
     "data": {
      "text/plain": [
       "(32, 32, 3)"
      ]
     },
     "execution_count": 5,
     "metadata": {},
     "output_type": "execute_result"
    }
   ],
   "source": [
    "import numpy as np\n",
    "\n",
    "processed_1 = img_process(batch_1[b'data'])\n",
    "processed_2 = img_process(batch_2[b'data'])\n",
    "processed_3 = img_process(batch_3[b'data'])\n",
    "processed_4 = img_process(batch_4[b'data'])\n",
    "processed_5 = img_process(batch_5[b'data'])\n",
    "processed_test = img_process(batch_test[b'data'])"
   ]
  },
  {
   "cell_type": "markdown",
   "metadata": {},
   "source": [
    "Batches are combined into one large training set and a sepereate testing set from the sixth batch."
   ]
  },
  {
   "cell_type": "code",
   "execution_count": 23,
   "metadata": {},
   "outputs": [],
   "source": [
    "import numpy as np\n",
    "from keras.utils import np_utils\n",
    "\n",
    "train_tensors = np.concatenate((processed_1, processed_2, processed_3, processed_4, processed_5))\n",
    "target_labels = np.concatenate((batch_1[b'labels'], batch_2[b'labels'], batch_3[b'labels'], batch_4[b'labels'], batch_5[b'labels']))\n",
    "train_targets = np_utils.to_categorical(target_labels, 10)\n",
    "\n",
    "test_tensors = img_process(batch_test[b'data'])\n",
    "test_targets = np_utils.to_categorical(batch_test[b'labels'], 10)"
   ]
  },
  {
   "cell_type": "markdown",
   "metadata": {},
   "source": [
    "Model is created with the ResNet inspired architecture. "
   ]
  },
  {
   "cell_type": "code",
   "execution_count": 18,
   "metadata": {},
   "outputs": [
    {
     "name": "stdout",
     "output_type": "stream",
     "text": [
      "_________________________________________________________________\n",
      "Layer (type)                 Output Shape              Param #   \n",
      "=================================================================\n",
      "conv2d_10 (Conv2D)           (None, 32, 32, 16)        448       \n",
      "_________________________________________________________________\n",
      "max_pooling2d_5 (MaxPooling2 (None, 16, 16, 16)        0         \n",
      "_________________________________________________________________\n",
      "conv2d_11 (Conv2D)           (None, 16, 16, 32)        4640      \n",
      "_________________________________________________________________\n",
      "conv2d_12 (Conv2D)           (None, 16, 16, 32)        9248      \n",
      "_________________________________________________________________\n",
      "conv2d_13 (Conv2D)           (None, 16, 16, 32)        9248      \n",
      "_________________________________________________________________\n",
      "max_pooling2d_6 (MaxPooling2 (None, 8, 8, 32)          0         \n",
      "_________________________________________________________________\n",
      "conv2d_14 (Conv2D)           (None, 8, 8, 64)          18496     \n",
      "_________________________________________________________________\n",
      "conv2d_15 (Conv2D)           (None, 8, 8, 64)          36928     \n",
      "_________________________________________________________________\n",
      "conv2d_16 (Conv2D)           (None, 8, 8, 64)          36928     \n",
      "_________________________________________________________________\n",
      "max_pooling2d_7 (MaxPooling2 (None, 4, 4, 64)          0         \n",
      "_________________________________________________________________\n",
      "conv2d_17 (Conv2D)           (None, 4, 4, 128)         73856     \n",
      "_________________________________________________________________\n",
      "conv2d_18 (Conv2D)           (None, 4, 4, 128)         147584    \n",
      "_________________________________________________________________\n",
      "max_pooling2d_8 (MaxPooling2 (None, 2, 2, 128)         0         \n",
      "_________________________________________________________________\n",
      "dropout_2 (Dropout)          (None, 2, 2, 128)         0         \n",
      "_________________________________________________________________\n",
      "flatten_2 (Flatten)          (None, 512)               0         \n",
      "_________________________________________________________________\n",
      "dense_2 (Dense)              (None, 10)                5130      \n",
      "=================================================================\n",
      "Total params: 342,506\n",
      "Trainable params: 342,506\n",
      "Non-trainable params: 0\n",
      "_________________________________________________________________\n"
     ]
    }
   ],
   "source": [
    "from keras.models import Sequential\n",
    "from keras.layers import Dense, Flatten, Dropout, MaxPooling2D, Conv2D, GlobalAveragePooling2D\n",
    "\n",
    "\n",
    "model = Sequential()\n",
    "\n",
    "model.add(Conv2D(filters=16, kernel_size=3, padding='same', activation='relu', input_shape=train_tensors[0].shape))\n",
    "model.add(MaxPooling2D(pool_size=2))\n",
    "model.add(Conv2D(filters=32, kernel_size=3, padding='same', activation='relu'))\n",
    "model.add(Conv2D(filters=32, kernel_size=3, padding='same', activation='relu'))\n",
    "model.add(Conv2D(filters=32, kernel_size=3, padding='same', activation='relu'))\n",
    "model.add(MaxPooling2D(pool_size=2))\n",
    "model.add(Conv2D(filters=64, kernel_size=3, padding='same', activation='relu'))\n",
    "model.add(Conv2D(filters=64, kernel_size=3, padding='same', activation='relu'))\n",
    "model.add(Conv2D(filters=64, kernel_size=3, padding='same', activation='relu'))\n",
    "model.add(MaxPooling2D(pool_size=2))\n",
    "model.add(Conv2D(filters=128, kernel_size=3, padding='same', activation='relu'))\n",
    "model.add(Conv2D(filters=128, kernel_size=3, padding='same', activation='relu'))\n",
    "model.add(MaxPooling2D(pool_size=2))\n",
    "model.add(Dropout(0.2))\n",
    "model.add(Flatten())\n",
    "model.add(Dense(10, activation='softmax'))\n",
    "\n",
    "model.summary()"
   ]
  },
  {
   "cell_type": "code",
   "execution_count": 19,
   "metadata": {},
   "outputs": [],
   "source": [
    "model.compile(optimizer='rmsprop', loss='categorical_crossentropy', metrics=['accuracy'])"
   ]
  },
  {
   "cell_type": "markdown",
   "metadata": {},
   "source": [
    "Model it trained on the cifar-10 dataset"
   ]
  },
  {
   "cell_type": "code",
   "execution_count": 45,
   "metadata": {},
   "outputs": [
    {
     "name": "stdout",
     "output_type": "stream",
     "text": [
      "Train on 50000 samples, validate on 10000 samples\n",
      "Epoch 1/20\n",
      "50000/50000 [==============================] - 210s 4ms/step - loss: 1.5111 - acc: 0.4905 - val_loss: 1.3349 - val_acc: 0.5312\n",
      "\n",
      "Epoch 00001: val_loss improved from inf to 1.33486, saving model to saved_models/weights.best.cifar_7.hdf5\n",
      "Epoch 2/20\n",
      "50000/50000 [==============================] - 203s 4ms/step - loss: 1.5215 - acc: 0.4876 - val_loss: 1.7847 - val_acc: 0.3504\n",
      "\n",
      "Epoch 00002: val_loss did not improve from 1.33486\n",
      "Epoch 3/20\n",
      "50000/50000 [==============================] - 248s 5ms/step - loss: 1.5390 - acc: 0.4797 - val_loss: 1.4084 - val_acc: 0.5167\n",
      "\n",
      "Epoch 00003: val_loss did not improve from 1.33486\n",
      "Epoch 4/20\n",
      "50000/50000 [==============================] - 458s 9ms/step - loss: 1.5745 - acc: 0.4716 - val_loss: 1.4875 - val_acc: 0.4619\n",
      "\n",
      "Epoch 00004: val_loss did not improve from 1.33486\n",
      "Epoch 5/20\n",
      "50000/50000 [==============================] - 696s 14ms/step - loss: 1.5725 - acc: 0.4672 - val_loss: 1.4778 - val_acc: 0.4974\n",
      "\n",
      "Epoch 00005: val_loss did not improve from 1.33486\n",
      "Epoch 6/20\n",
      "50000/50000 [==============================] - 512s 10ms/step - loss: 1.7658 - acc: 0.4599 - val_loss: 1.4748 - val_acc: 0.4871\n",
      "\n",
      "Epoch 00006: val_loss did not improve from 1.33486\n",
      "Epoch 7/20\n",
      "50000/50000 [==============================] - 762s 15ms/step - loss: 1.5850 - acc: 0.4680 - val_loss: 1.5264 - val_acc: 0.4668\n",
      "\n",
      "Epoch 00007: val_loss did not improve from 1.33486\n",
      "Epoch 8/20\n",
      "50000/50000 [==============================] - 459s 9ms/step - loss: 1.6288 - acc: 0.4524 - val_loss: 1.4467 - val_acc: 0.4998\n",
      "\n",
      "Epoch 00008: val_loss did not improve from 1.33486\n",
      "Epoch 9/20\n",
      "50000/50000 [==============================] - 680s 14ms/step - loss: 1.6585 - acc: 0.4512 - val_loss: 7.4558 - val_acc: 0.2660\n",
      "\n",
      "Epoch 00009: val_loss did not improve from 1.33486\n",
      "Epoch 10/20\n",
      "50000/50000 [==============================] - 786s 16ms/step - loss: 2.9408 - acc: 0.4205 - val_loss: 1.5079 - val_acc: 0.4695\n",
      "\n",
      "Epoch 00010: val_loss did not improve from 1.33486\n",
      "Epoch 11/20\n",
      "50000/50000 [==============================] - 378s 8ms/step - loss: 1.6769 - acc: 0.4419 - val_loss: 1.5530 - val_acc: 0.4473\n",
      "\n",
      "Epoch 00011: val_loss did not improve from 1.33486\n",
      "Epoch 12/20\n",
      "50000/50000 [==============================] - 387s 8ms/step - loss: 1.6721 - acc: 0.4453 - val_loss: 1.9997 - val_acc: 0.3832\n",
      "\n",
      "Epoch 00012: val_loss did not improve from 1.33486\n",
      "Epoch 13/20\n",
      "50000/50000 [==============================] - 376s 8ms/step - loss: 2.4236 - acc: 0.4113 - val_loss: 1.6488 - val_acc: 0.4488\n",
      "\n",
      "Epoch 00013: val_loss did not improve from 1.33486\n",
      "Epoch 14/20\n",
      "50000/50000 [==============================] - 1448s 29ms/step - loss: 1.7974 - acc: 0.4199 - val_loss: 1.6614 - val_acc: 0.4038\n",
      "\n",
      "Epoch 00014: val_loss did not improve from 1.33486\n",
      "Epoch 15/20\n",
      "50000/50000 [==============================] - 19268s 385ms/step - loss: 12.6123 - acc: 0.1367 - val_loss: 15.0656 - val_acc: 0.0653\n",
      "\n",
      "Epoch 00015: val_loss did not improve from 1.33486\n",
      "Epoch 16/20\n",
      "50000/50000 [==============================] - 229s 5ms/step - loss: 14.9673 - acc: 0.0714 - val_loss: 15.0656 - val_acc: 0.0653\n",
      "\n",
      "Epoch 00016: val_loss did not improve from 1.33486\n",
      "Epoch 17/20\n",
      "50000/50000 [==============================] - 6255s 125ms/step - loss: 13.6756 - acc: 0.1010 - val_loss: 1.7485 - val_acc: 0.4392\n",
      "\n",
      "Epoch 00017: val_loss did not improve from 1.33486\n",
      "Epoch 18/20\n",
      "50000/50000 [==============================] - 225s 5ms/step - loss: 1.7696 - acc: 0.4205 - val_loss: 1.6290 - val_acc: 0.4115\n",
      "\n",
      "Epoch 00018: val_loss did not improve from 1.33486\n",
      "Epoch 19/20\n",
      "50000/50000 [==============================] - 231s 5ms/step - loss: 1.8244 - acc: 0.4128 - val_loss: 1.6440 - val_acc: 0.4040\n",
      "\n",
      "Epoch 00019: val_loss did not improve from 1.33486\n",
      "Epoch 20/20\n",
      "50000/50000 [==============================] - 237s 5ms/step - loss: 1.8894 - acc: 0.4135 - val_loss: 1.6811 - val_acc: 0.4597\n",
      "\n",
      "Epoch 00020: val_loss did not improve from 1.33486\n"
     ]
    },
    {
     "data": {
      "text/plain": [
       "<keras.callbacks.History at 0x2456ba23518>"
      ]
     },
     "execution_count": 45,
     "metadata": {},
     "output_type": "execute_result"
    }
   ],
   "source": [
    "from keras.callbacks import ModelCheckpoint\n",
    "\n",
    "epochs = 20\n",
    "\n",
    "\n",
    "checkpointer = ModelCheckpoint(filepath='saved_models/weights.best.cifar_7.hdf5', \n",
    "                               verbose=1, save_best_only=True)\n",
    "\n",
    "model.fit(train_tensors, train_targets, \n",
    "          validation_data=(test_tensors, test_targets),\n",
    "          epochs=epochs, batch_size=31, callbacks=[checkpointer], verbose=1)"
   ]
  }
 ],
 "metadata": {
  "kernelspec": {
   "display_name": "Python 3",
   "language": "python",
   "name": "python3"
  },
  "language_info": {
   "codemirror_mode": {
    "name": "ipython",
    "version": 3
   },
   "file_extension": ".py",
   "mimetype": "text/x-python",
   "name": "python",
   "nbconvert_exporter": "python",
   "pygments_lexer": "ipython3",
   "version": "3.6.7"
  }
 },
 "nbformat": 4,
 "nbformat_minor": 2
}
