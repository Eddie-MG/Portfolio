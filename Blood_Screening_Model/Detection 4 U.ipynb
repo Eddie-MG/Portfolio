{
 "cells": [
  {
   "cell_type": "markdown",
   "metadata": {},
   "source": [
    "Libraries imported"
   ]
  },
  {
   "cell_type": "code",
   "execution_count": 1,
   "metadata": {},
   "outputs": [
    {
     "name": "stderr",
     "output_type": "stream",
     "text": [
      "Using TensorFlow backend.\n"
     ]
    }
   ],
   "source": [
    "import pandas as pd\n",
    "import numpy as np\n",
    "import matplotlib.pyplot as plt\n",
    "import matplotlib.image as mpimg\n",
    "from sklearn.datasets import load_files\n",
    "from keras.utils import np_utils\n",
    "from sklearn.model_selection import train_test_split"
   ]
  },
  {
   "cell_type": "markdown",
   "metadata": {},
   "source": [
    "Import data from the dataset"
   ]
  },
  {
   "cell_type": "code",
   "execution_count": 2,
   "metadata": {},
   "outputs": [],
   "source": [
    "data = load_files(\"D:\\malaria_screening\\cell_images\")\n",
    "files = data['filenames']\n",
    "targets = data['target']"
   ]
  },
  {
   "cell_type": "code",
   "execution_count": 34,
   "metadata": {},
   "outputs": [],
   "source": [
    "categories = ['positive', 'negative']"
   ]
  },
  {
   "cell_type": "markdown",
   "metadata": {},
   "source": [
    "Convert targets into categorised 'hash tables'"
   ]
  },
  {
   "cell_type": "code",
   "execution_count": 3,
   "metadata": {},
   "outputs": [],
   "source": [
    "categorised_targets = np_utils.to_categorical(np.array(targets), 2)"
   ]
  },
  {
   "cell_type": "markdown",
   "metadata": {},
   "source": [
    "Spilt data for cross validation"
   ]
  },
  {
   "cell_type": "code",
   "execution_count": 4,
   "metadata": {},
   "outputs": [],
   "source": [
    "train_files, o_files, train_targets, o_targets = train_test_split(files, categorised_targets, test_size=0.25)\n",
    "valid_files, test_files, valid_targets, test_targets = train_test_split(o_files, o_targets, test_size=0.2)"
   ]
  },
  {
   "cell_type": "code",
   "execution_count": 61,
   "metadata": {},
   "outputs": [
    {
     "data": {
      "text/plain": [
       "8267"
      ]
     },
     "execution_count": 61,
     "metadata": {},
     "output_type": "execute_result"
    }
   ],
   "source": [
    "#len(train_files), len(test_files), len(valid_files), len(train_1)\n",
    "len(train_paths)"
   ]
  },
  {
   "cell_type": "code",
   "execution_count": 5,
   "metadata": {},
   "outputs": [],
   "source": [
    "def clean_data(arr):\n",
    "    idx_un = None\n",
    "    idx_para = None\n",
    "    for i, x in enumerate(arr):\n",
    "        if x == 'D:\\\\malaria_screening\\\\cell_images\\\\Uninfected\\\\Thumbs.db':\n",
    "            print('Set contains rogue uninfected file at index: ' + i)\n",
    "            idx_un = i\n",
    "    for i, x in enumerate(arr):\n",
    "        if x == 'D:\\\\malaria_screening\\\\cell_images\\\\Parasitized\\\\Thumbs.db':\n",
    "            print('Set contains rogue parasitized file at index: ' + i)\n",
    "            idx_para = i\n",
    "            \n",
    "    if idx_un != None and idx_para != None:\n",
    "        temp = np.delete(arr, [idx_un, idx_para])\n",
    "    elif idx_para != None:\n",
    "        temp = np.delete(arr, idx_para)\n",
    "    elif idx_un !=None:\n",
    "        temp = np.delete(arr, idx_un)\n",
    "    else:\n",
    "        print('Data screened \\nData was clean') \n",
    "        return arr\n",
    "    print('Data screened \\n Data contained invalid files')    \n",
    "    return temp"
   ]
  },
  {
   "cell_type": "markdown",
   "metadata": {},
   "source": [
    "Spliting the training data to account for memory usage."
   ]
  },
  {
   "cell_type": "code",
   "execution_count": 6,
   "metadata": {},
   "outputs": [],
   "source": [
    "train_1, train_2, train_3, train_4, train_5 = np.split(train_files, 5)"
   ]
  },
  {
   "cell_type": "code",
   "execution_count": 7,
   "metadata": {},
   "outputs": [],
   "source": [
    "train_paths = np.concatenate((train_1, train_2))"
   ]
  },
  {
   "cell_type": "markdown",
   "metadata": {},
   "source": [
    "Convert arrays to tensors."
   ]
  },
  {
   "cell_type": "code",
   "execution_count": 8,
   "metadata": {},
   "outputs": [],
   "source": [
    "from keras.preprocessing import image\n",
    "\n",
    "def path_to_tensor(path):\n",
    "    temp_im = image.load_img(path, target_size=(244,244))\n",
    "    im_array = image.img_to_array(temp_im)\n",
    "    return np.expand_dims(im_array, axis=0)\n",
    "\n",
    "def paths_to_tensors(paths):\n",
    "    tensors = [path_to_tensor(x) for x in paths]\n",
    "    return np.vstack(tensors)"
   ]
  },
  {
   "cell_type": "code",
   "execution_count": 9,
   "metadata": {},
   "outputs": [
    {
     "name": "stdout",
     "output_type": "stream",
     "text": [
      "Data screened \n",
      "Data was clean\n"
     ]
    },
    {
     "data": {
      "text/plain": [
       "array(['D:\\\\malaria_screening\\\\cell_images\\\\Uninfected\\\\C115P76ThinF_IMG_20150930_163018_cell_147.png',\n",
       "       'D:\\\\malaria_screening\\\\cell_images\\\\Parasitized\\\\C97P58ThinF_IMG_20150917_152032_cell_180.png',\n",
       "       'D:\\\\malaria_screening\\\\cell_images\\\\Parasitized\\\\C175P136NThinF_IMG_20151127_142009_cell_226.png',\n",
       "       ...,\n",
       "       'D:\\\\malaria_screening\\\\cell_images\\\\Uninfected\\\\C153P114ThinF_IMG_20151115_135639_cell_215.png',\n",
       "       'D:\\\\malaria_screening\\\\cell_images\\\\Parasitized\\\\C59P20thinF_IMG_20150803_113430_cell_4.png',\n",
       "       'D:\\\\malaria_screening\\\\cell_images\\\\Parasitized\\\\C137P98ThinF_IMG_20151005_155704_cell_65.png'],\n",
       "      dtype='<U106')"
      ]
     },
     "execution_count": 9,
     "metadata": {},
     "output_type": "execute_result"
    }
   ],
   "source": [
    "clean_data(test_files)"
   ]
  },
  {
   "cell_type": "code",
   "execution_count": 10,
   "metadata": {},
   "outputs": [
    {
     "name": "stdout",
     "output_type": "stream",
     "text": [
      "Data screened \n",
      "Data was clean\n"
     ]
    },
    {
     "data": {
      "text/plain": [
       "array(['D:\\\\malaria_screening\\\\cell_images\\\\Parasitized\\\\C119P80ThinF_IMG_20151002_124304_cell_172.png',\n",
       "       'D:\\\\malaria_screening\\\\cell_images\\\\Parasitized\\\\C173P134NThinF_IMG_20151130_125501_cell_258.png',\n",
       "       'D:\\\\malaria_screening\\\\cell_images\\\\Parasitized\\\\C145P106ThinF_IMG_20151016_154844_cell_156.png',\n",
       "       ...,\n",
       "       'D:\\\\malaria_screening\\\\cell_images\\\\Uninfected\\\\C216ThinF_IMG_20151106_134931_cell_140.png',\n",
       "       'D:\\\\malaria_screening\\\\cell_images\\\\Parasitized\\\\C180P141NThinF_IMG_20151201_170021_cell_19.png',\n",
       "       'D:\\\\malaria_screening\\\\cell_images\\\\Parasitized\\\\C146P107ThinF_IMG_20151018_135703_cell_219.png'],\n",
       "      dtype='<U106')"
      ]
     },
     "execution_count": 10,
     "metadata": {},
     "output_type": "execute_result"
    }
   ],
   "source": [
    "clean_data(valid_files)"
   ]
  },
  {
   "cell_type": "code",
   "execution_count": 11,
   "metadata": {},
   "outputs": [
    {
     "name": "stdout",
     "output_type": "stream",
     "text": [
      "Data screened \n",
      "Data was clean\n"
     ]
    }
   ],
   "source": [
    "train_paths = clean_data(train_paths)"
   ]
  },
  {
   "cell_type": "code",
   "execution_count": 12,
   "metadata": {},
   "outputs": [],
   "source": [
    "test_tensors = paths_to_tensors(test_files)\n",
    "train_tensors = paths_to_tensors(train_paths)\n",
    "valid_tensors = paths_to_tensors(valid_files)"
   ]
  },
  {
   "cell_type": "markdown",
   "metadata": {},
   "source": [
    "Build Classifier Model."
   ]
  },
  {
   "cell_type": "code",
   "execution_count": 17,
   "metadata": {},
   "outputs": [],
   "source": [
    "from keras.models import Sequential\n",
    "from keras.layers import Dense, Conv2D, Flatten, Dropout, MaxPooling2D\n",
    "from keras.callbacks import ModelCheckpoint"
   ]
  },
  {
   "cell_type": "code",
   "execution_count": 58,
   "metadata": {},
   "outputs": [
    {
     "name": "stdout",
     "output_type": "stream",
     "text": [
      "_________________________________________________________________\n",
      "Layer (type)                 Output Shape              Param #   \n",
      "=================================================================\n",
      "conv2d_1 (Conv2D)            (None, 244, 244, 8)       224       \n",
      "_________________________________________________________________\n",
      "max_pooling2d_1 (MaxPooling2 (None, 122, 122, 8)       0         \n",
      "_________________________________________________________________\n",
      "conv2d_2 (Conv2D)            (None, 122, 122, 16)      21648     \n",
      "_________________________________________________________________\n",
      "max_pooling2d_2 (MaxPooling2 (None, 61, 61, 16)        0         \n",
      "_________________________________________________________________\n",
      "conv2d_3 (Conv2D)            (None, 61, 61, 32)        86560     \n",
      "_________________________________________________________________\n",
      "max_pooling2d_3 (MaxPooling2 (None, 30, 30, 32)        0         \n",
      "_________________________________________________________________\n",
      "conv2d_4 (Conv2D)            (None, 30, 30, 64)        346176    \n",
      "_________________________________________________________________\n",
      "max_pooling2d_4 (MaxPooling2 (None, 15, 15, 64)        0         \n",
      "_________________________________________________________________\n",
      "dropout_1 (Dropout)          (None, 15, 15, 64)        0         \n",
      "_________________________________________________________________\n",
      "flatten_1 (Flatten)          (None, 14400)             0         \n",
      "_________________________________________________________________\n",
      "dense_1 (Dense)              (None, 2)                 28802     \n",
      "=================================================================\n",
      "Total params: 483,410\n",
      "Trainable params: 483,410\n",
      "Non-trainable params: 0\n",
      "_________________________________________________________________\n"
     ]
    }
   ],
   "source": [
    "model = Sequential()\n",
    "\n",
    "model.add(Conv2D(input_shape=train_tensors[0].shape, activation='relu', filters=8, kernel_size=3, padding='same'))\n",
    "model.add(MaxPooling2D(pool_size=2))\n",
    "model.add(Conv2D(activation='relu', filters=16, kernel_size=13, padding='same'))\n",
    "model.add(MaxPooling2D(pool_size=2))\n",
    "model.add(Conv2D(activation='relu', filters=32, kernel_size=13, padding='same'))\n",
    "model.add(MaxPooling2D(pool_size=2))\n",
    "model.add(Conv2D(activation='relu', filters=64, kernel_size=13, padding='same'))\n",
    "model.add(MaxPooling2D(pool_size=2))\n",
    "model.add(Dropout(0.2))\n",
    "model.add(Flatten())\n",
    "model.add(Dense(2, activation='softmax'))\n",
    "\n",
    "model.summary()"
   ]
  },
  {
   "cell_type": "code",
   "execution_count": 59,
   "metadata": {},
   "outputs": [],
   "source": [
    "model.compile(optimizer='rmsprop', loss='categorical_crossentropy', metrics=['accuracy'])"
   ]
  },
  {
   "cell_type": "code",
   "execution_count": 63,
   "metadata": {},
   "outputs": [
    {
     "name": "stdout",
     "output_type": "stream",
     "text": [
      "Train on 8267 samples, validate on 5512 samples\n",
      "Epoch 1/3\n",
      "8267/8267 [==============================] - 2770s 335ms/step - loss: 8.0152 - acc: 0.5027 - val_loss: 8.0590 - val_acc: 0.5000\n",
      "\n",
      "Epoch 00001: val_loss improved from inf to 8.05905, saving model to saved_models/weights.best.try_1.hdf5\n",
      "Epoch 2/3\n",
      "8267/8267 [==============================] - 9645s 1s/step - loss: 8.0152 - acc: 0.5027 - val_loss: 8.0590 - val_acc: 0.5000\n",
      "\n",
      "Epoch 00002: val_loss did not improve from 8.05905\n",
      "Epoch 3/3\n",
      "8267/8267 [==============================] - 3130s 379ms/step - loss: 8.0152 - acc: 0.5027 - val_loss: 8.0590 - val_acc: 0.5000\n",
      "\n",
      "Epoch 00003: val_loss did not improve from 8.05905\n"
     ]
    },
    {
     "data": {
      "text/plain": [
       "<keras.callbacks.History at 0x2223a054e80>"
      ]
     },
     "execution_count": 63,
     "metadata": {},
     "output_type": "execute_result"
    }
   ],
   "source": [
    "from keras.callbacks import ModelCheckpoint\n",
    "\n",
    "epochs = 3\n",
    "\n",
    "checkpointer = ModelCheckpoint(filepath='saved_models/weights.best.try_1.hdf5', verbose=1, save_best_only=True)\n",
    "\n",
    "model.fit(train_tensors, train_targets[:8267], batch_size=33, validation_data=(valid_tensors, valid_targets),\n",
    "          epochs=epochs, verbose=1, callbacks=[checkpointer])"
   ]
  },
  {
   "cell_type": "markdown",
   "metadata": {},
   "source": []
  },
  {
   "cell_type": "code",
   "execution_count": 23,
   "metadata": {},
   "outputs": [
    {
     "name": "stdout",
     "output_type": "stream",
     "text": [
      "_________________________________________________________________\n",
      "Layer (type)                 Output Shape              Param #   \n",
      "=================================================================\n",
      "conv2d_11 (Conv2D)           (None, 244, 244, 8)       224       \n",
      "_________________________________________________________________\n",
      "max_pooling2d_7 (MaxPooling2 (None, 122, 122, 8)       0         \n",
      "_________________________________________________________________\n",
      "conv2d_12 (Conv2D)           (None, 122, 122, 8)       584       \n",
      "_________________________________________________________________\n",
      "conv2d_13 (Conv2D)           (None, 122, 122, 8)       584       \n",
      "_________________________________________________________________\n",
      "max_pooling2d_8 (MaxPooling2 (None, 61, 61, 8)         0         \n",
      "_________________________________________________________________\n",
      "conv2d_14 (Conv2D)           (None, 61, 61, 16)        1168      \n",
      "_________________________________________________________________\n",
      "conv2d_15 (Conv2D)           (None, 61, 61, 16)        2320      \n",
      "_________________________________________________________________\n",
      "max_pooling2d_9 (MaxPooling2 (None, 30, 30, 16)        0         \n",
      "_________________________________________________________________\n",
      "conv2d_16 (Conv2D)           (None, 30, 30, 32)        4640      \n",
      "_________________________________________________________________\n",
      "conv2d_17 (Conv2D)           (None, 30, 30, 32)        9248      \n",
      "_________________________________________________________________\n",
      "max_pooling2d_10 (MaxPooling (None, 15, 15, 32)        0         \n",
      "_________________________________________________________________\n",
      "conv2d_18 (Conv2D)           (None, 15, 15, 64)        18496     \n",
      "_________________________________________________________________\n",
      "conv2d_19 (Conv2D)           (None, 15, 15, 64)        36928     \n",
      "_________________________________________________________________\n",
      "max_pooling2d_11 (MaxPooling (None, 7, 7, 64)          0         \n",
      "_________________________________________________________________\n",
      "conv2d_20 (Conv2D)           (None, 7, 7, 128)         32896     \n",
      "_________________________________________________________________\n",
      "conv2d_21 (Conv2D)           (None, 7, 7, 128)         65664     \n",
      "_________________________________________________________________\n",
      "max_pooling2d_12 (MaxPooling (None, 3, 3, 128)         0         \n",
      "_________________________________________________________________\n",
      "dropout_2 (Dropout)          (None, 3, 3, 128)         0         \n",
      "_________________________________________________________________\n",
      "flatten_2 (Flatten)          (None, 1152)              0         \n",
      "_________________________________________________________________\n",
      "dense_2 (Dense)              (None, 2)                 2306      \n",
      "=================================================================\n",
      "Total params: 175,058\n",
      "Trainable params: 175,058\n",
      "Non-trainable params: 0\n",
      "_________________________________________________________________\n"
     ]
    }
   ],
   "source": [
    "res_model = Sequential()\n",
    "\n",
    "res_model.add(Conv2D(input_shape=train_tensors[0].shape, activation='relu', filters=8, kernel_size=3, padding='same'))\n",
    "res_model.add(MaxPooling2D(pool_size=2))\n",
    "res_model.add(Conv2D(activation='relu', filters=8, kernel_size=3, padding='same'))\n",
    "res_model.add(Conv2D(activation='relu', filters=8, kernel_size=3, padding='same'))\n",
    "res_model.add(MaxPooling2D(pool_size=2))\n",
    "res_model.add(Conv2D(activation='relu', filters=16, kernel_size=3, padding='same'))\n",
    "res_model.add(Conv2D(activation='relu', filters=16, kernel_size=3, padding='same'))\n",
    "res_model.add(MaxPooling2D(pool_size=2))\n",
    "res_model.add(Conv2D(activation='relu', filters=32, kernel_size=3, padding='same'))\n",
    "res_model.add(Conv2D(activation='relu', filters=32, kernel_size=3, padding='same'))\n",
    "res_model.add(MaxPooling2D(pool_size=2))\n",
    "res_model.add(Conv2D(activation='relu', filters=64, kernel_size=3, padding='same'))\n",
    "res_model.add(Conv2D(activation='relu', filters=64, kernel_size=3, padding='same'))\n",
    "res_model.add(MaxPooling2D(pool_size=2))\n",
    "res_model.add(Conv2D(activation='relu', filters=128, kernel_size=2, padding='same'))\n",
    "res_model.add(Conv2D(activation='relu', filters=128, kernel_size=2, padding='same'))\n",
    "res_model.add(MaxPooling2D(pool_size=2))\n",
    "res_model.add(Dropout(0.4))\n",
    "res_model.add(Flatten())\n",
    "#res_model.add(Dense(8, activation='relu'))\n",
    "res_model.add(Dense(2, activation='softmax'))\n",
    "\n",
    "res_model.summary()"
   ]
  },
  {
   "cell_type": "code",
   "execution_count": 24,
   "metadata": {},
   "outputs": [],
   "source": [
    "res_model.compile(optimizer='rmsprop', metrics=['accuracy'], loss='categorical_crossentropy')"
   ]
  },
  {
   "cell_type": "code",
   "execution_count": 26,
   "metadata": {},
   "outputs": [
    {
     "name": "stdout",
     "output_type": "stream",
     "text": [
      "Train on 8268 samples, validate on 5512 samples\n",
      "Epoch 1/10\n",
      "8268/8268 [==============================] - 2315s 280ms/step - loss: 0.1761 - acc: 0.9425 - val_loss: 0.2232 - val_acc: 0.9204\n",
      "\n",
      "Epoch 00001: val_loss improved from inf to 0.22319, saving model to saved_models/weights.best.special_try_6.hdf5\n",
      "Epoch 2/10\n",
      "8268/8268 [==============================] - 533s 65ms/step - loss: 0.1611 - acc: 0.9487 - val_loss: 0.1935 - val_acc: 0.9412\n",
      "\n",
      "Epoch 00002: val_loss improved from 0.22319 to 0.19348, saving model to saved_models/weights.best.special_try_6.hdf5\n",
      "Epoch 3/10\n",
      "8268/8268 [==============================] - 556s 67ms/step - loss: 0.1606 - acc: 0.9515 - val_loss: 0.1777 - val_acc: 0.9365\n",
      "\n",
      "Epoch 00003: val_loss improved from 0.19348 to 0.17766, saving model to saved_models/weights.best.special_try_6.hdf5\n",
      "Epoch 4/10\n",
      "8268/8268 [==============================] - 548s 66ms/step - loss: 0.1510 - acc: 0.9508 - val_loss: 0.1569 - val_acc: 0.9450\n",
      "\n",
      "Epoch 00004: val_loss improved from 0.17766 to 0.15692, saving model to saved_models/weights.best.special_try_6.hdf5\n",
      "Epoch 5/10\n",
      "8268/8268 [==============================] - 543s 66ms/step - loss: 0.1509 - acc: 0.9526 - val_loss: 0.1720 - val_acc: 0.9508\n",
      "\n",
      "Epoch 00005: val_loss did not improve from 0.15692\n",
      "Epoch 6/10\n",
      "8268/8268 [==============================] - 571s 69ms/step - loss: 0.1421 - acc: 0.9562 - val_loss: 0.1578 - val_acc: 0.9458\n",
      "\n",
      "Epoch 00006: val_loss did not improve from 0.15692\n",
      "Epoch 7/10\n",
      "8268/8268 [==============================] - 527s 64ms/step - loss: 0.1346 - acc: 0.9577 - val_loss: 0.1923 - val_acc: 0.9436\n",
      "\n",
      "Epoch 00007: val_loss did not improve from 0.15692\n",
      "Epoch 8/10\n",
      "8268/8268 [==============================] - 537s 65ms/step - loss: 0.1324 - acc: 0.9566 - val_loss: 0.2090 - val_acc: 0.9467\n",
      "\n",
      "Epoch 00008: val_loss did not improve from 0.15692\n",
      "Epoch 9/10\n",
      "8268/8268 [==============================] - 532s 64ms/step - loss: 0.1182 - acc: 0.9627 - val_loss: 0.1837 - val_acc: 0.9512\n",
      "\n",
      "Epoch 00009: val_loss did not improve from 0.15692\n",
      "Epoch 10/10\n",
      "8268/8268 [==============================] - 529s 64ms/step - loss: 0.1192 - acc: 0.9641 - val_loss: 0.1941 - val_acc: 0.9483\n",
      "\n",
      "Epoch 00010: val_loss did not improve from 0.15692\n"
     ]
    },
    {
     "data": {
      "text/plain": [
       "<keras.callbacks.History at 0x13f0db460b8>"
      ]
     },
     "execution_count": 26,
     "metadata": {},
     "output_type": "execute_result"
    }
   ],
   "source": [
    "epochs = 10\n",
    "\n",
    "checkpointer = ModelCheckpoint(filepath='saved_models/weights.best.special_try_6.hdf5', verbose=1, save_best_only=True)\n",
    "\n",
    "res_model.fit(train_tensors, train_targets[:8268], batch_size=33, validation_data=(valid_tensors, valid_targets),\n",
    "          epochs=epochs, verbose=1, callbacks=[checkpointer])"
   ]
  },
  {
   "cell_type": "code",
   "execution_count": 27,
   "metadata": {},
   "outputs": [
    {
     "name": "stdout",
     "output_type": "stream",
     "text": [
      "Test accuracy: 94.9202%\n"
     ]
    }
   ],
   "source": [
    "predictions = [np.argmax(res_model.predict(np.expand_dims(feature, axis=0))) for feature in test_tensors]\n",
    "\n",
    "test_accuracy = 100*np.sum(np.array(predictions)==np.argmax(test_targets, axis=1))/len(predictions)\n",
    "print('Test accuracy: %.4f%%' % test_accuracy)"
   ]
  },
  {
   "cell_type": "code",
   "execution_count": 38,
   "metadata": {},
   "outputs": [],
   "source": [
    "def parasite_detector(screening):\n",
    "    res_model.load_weights('saved_models/weights.best.special_try_6.hdf5')\n",
    "    temp_tens = path_to_tensor(screening)\n",
    "    pred  = res_model.predict(temp_tens)\n",
    "    im = mpimg.imread(screening)\n",
    "    plt.imshow(im)\n",
    "    plt.show()\n",
    "    return print('This Screening has tested ' + categories[np.argmax(pred)] + '.')"
   ]
  },
  {
   "cell_type": "code",
   "execution_count": 41,
   "metadata": {},
   "outputs": [
    {
     "data": {
      "image/png": "[encoded data removed]",
      "text/plain": [
       "<Figure size 432x288 with 1 Axes>"
      ]
     },
     "metadata": {
      "needs_background": "light"
     },
     "output_type": "display_data"
    },
    {
     "name": "stdout",
     "output_type": "stream",
     "text": [
      "This Screening has tested negative.\n"
     ]
    }
   ],
   "source": [
    "parasite_detector(files[77])"
   ]
  }
 ],
 "metadata": {
  "kernelspec": {
   "display_name": "Python 3",
   "language": "python",
   "name": "python3"
  },
  "language_info": {
   "codemirror_mode": {
    "name": "ipython",
    "version": 3
   },
   "file_extension": ".py",
   "mimetype": "text/x-python",
   "name": "python",
   "nbconvert_exporter": "python",
   "pygments_lexer": "ipython3",
   "version": "3.6.7"
  }
 },
 "nbformat": 4,
 "nbformat_minor": 2
}
