{
 "cells": [
  {
   "cell_type": "markdown",
   "metadata": {},
   "source": [
    "Libraries imported"
   ]
  },
  {
   "cell_type": "code",
   "execution_count": 1,
   "metadata": {},
   "outputs": [],
   "source": [
    "import numpy as np\n",
    "import pandas as pd\n",
    "import matplotlib.pyplot as plt\n",
    "import matplotlib.image as mpimg\n",
    "from sklearn.model_selection import train_test_split"
   ]
  },
  {
   "cell_type": "markdown",
   "metadata": {},
   "source": [
    "Two versions of the csv file were loaded. One for direct use with the neural network and one for experimental purposes"
   ]
  },
  {
   "cell_type": "code",
   "execution_count": 2,
   "metadata": {},
   "outputs": [],
   "source": [
    "deets = pd.read_table('bee_data.csv', sep=',', header=0)\n",
    "exp = pd.read_table('bee_data.csv', sep=',', header=0)"
   ]
  },
  {
   "cell_type": "markdown",
   "metadata": {},
   "source": [
    "This function is used to convert the labels of the health from strings to integers so that it can be catergorised later on."
   ]
  },
  {
   "cell_type": "code",
   "execution_count": 3,
   "metadata": {},
   "outputs": [
    {
     "name": "stdout",
     "output_type": "stream",
     "text": [
      "{0: 'hive being robbed', 1: 'healthy', 2: 'few varrao, hive beetles', 3: 'ant problems', 4: 'missing queen', 5: 'Varroa, Small Hive Beetles'}\n"
     ]
    }
   ],
   "source": [
    "tar = {}\n",
    "for i, health in enumerate(deets['health'].unique()):\n",
    "    tar[i] = health\n",
    "    deets.replace(health, i, inplace=True)\n",
    "\n",
    "print(tar)"
   ]
  },
  {
   "cell_type": "markdown",
   "metadata": {},
   "source": [
    "Data was explored slightly:\n",
    "- Number of samples\n",
    "- Size of each category\n",
    "- Data format"
   ]
  },
  {
   "cell_type": "code",
   "execution_count": 4,
   "metadata": {
    "scrolled": true
   },
   "outputs": [
    {
     "data": {
      "text/plain": [
       "5172"
      ]
     },
     "execution_count": 4,
     "metadata": {},
     "output_type": "execute_result"
    }
   ],
   "source": [
    "deets['health'].value_counts().sum()"
   ]
  },
  {
   "cell_type": "code",
   "execution_count": 8,
   "metadata": {},
   "outputs": [
    {
     "data": {
      "text/plain": [
       "healthy                       3384\n",
       "few varrao, hive beetles       579\n",
       "Varroa, Small Hive Beetles     472\n",
       "ant problems                   457\n",
       "hive being robbed              251\n",
       "missing queen                   29\n",
       "Name: health, dtype: int64"
      ]
     },
     "execution_count": 8,
     "metadata": {},
     "output_type": "execute_result"
    }
   ],
   "source": [
    "exp['health'].value_counts()"
   ]
  },
  {
   "cell_type": "code",
   "execution_count": 5,
   "metadata": {},
   "outputs": [
    {
     "data": {
      "text/html": [
       "<div>\n",
       "<style scoped>\n",
       "    .dataframe tbody tr th:only-of-type {\n",
       "        vertical-align: middle;\n",
       "    }\n",
       "\n",
       "    .dataframe tbody tr th {\n",
       "        vertical-align: top;\n",
       "    }\n",
       "\n",
       "    .dataframe thead th {\n",
       "        text-align: right;\n",
       "    }\n",
       "</style>\n",
       "<table border=\"1\" class=\"dataframe\">\n",
       "  <thead>\n",
       "    <tr style=\"text-align: right;\">\n",
       "      <th></th>\n",
       "      <th>file</th>\n",
       "      <th>date</th>\n",
       "      <th>time</th>\n",
       "      <th>location</th>\n",
       "      <th>zip code</th>\n",
       "      <th>subspecies</th>\n",
       "      <th>health</th>\n",
       "      <th>pollen_carrying</th>\n",
       "      <th>caste</th>\n",
       "    </tr>\n",
       "  </thead>\n",
       "  <tbody>\n",
       "    <tr>\n",
       "      <th>0</th>\n",
       "      <td>041_066.png</td>\n",
       "      <td>8/28/18</td>\n",
       "      <td>16:07</td>\n",
       "      <td>Alvin, TX, USA</td>\n",
       "      <td>77511</td>\n",
       "      <td>-1</td>\n",
       "      <td>0</td>\n",
       "      <td>False</td>\n",
       "      <td>worker</td>\n",
       "    </tr>\n",
       "    <tr>\n",
       "      <th>1</th>\n",
       "      <td>041_072.png</td>\n",
       "      <td>8/28/18</td>\n",
       "      <td>16:07</td>\n",
       "      <td>Alvin, TX, USA</td>\n",
       "      <td>77511</td>\n",
       "      <td>-1</td>\n",
       "      <td>0</td>\n",
       "      <td>False</td>\n",
       "      <td>worker</td>\n",
       "    </tr>\n",
       "    <tr>\n",
       "      <th>2</th>\n",
       "      <td>041_073.png</td>\n",
       "      <td>8/28/18</td>\n",
       "      <td>16:07</td>\n",
       "      <td>Alvin, TX, USA</td>\n",
       "      <td>77511</td>\n",
       "      <td>-1</td>\n",
       "      <td>0</td>\n",
       "      <td>False</td>\n",
       "      <td>worker</td>\n",
       "    </tr>\n",
       "    <tr>\n",
       "      <th>3</th>\n",
       "      <td>041_067.png</td>\n",
       "      <td>8/28/18</td>\n",
       "      <td>16:07</td>\n",
       "      <td>Alvin, TX, USA</td>\n",
       "      <td>77511</td>\n",
       "      <td>-1</td>\n",
       "      <td>0</td>\n",
       "      <td>False</td>\n",
       "      <td>worker</td>\n",
       "    </tr>\n",
       "    <tr>\n",
       "      <th>4</th>\n",
       "      <td>041_059.png</td>\n",
       "      <td>8/28/18</td>\n",
       "      <td>16:07</td>\n",
       "      <td>Alvin, TX, USA</td>\n",
       "      <td>77511</td>\n",
       "      <td>-1</td>\n",
       "      <td>0</td>\n",
       "      <td>False</td>\n",
       "      <td>worker</td>\n",
       "    </tr>\n",
       "  </tbody>\n",
       "</table>\n",
       "</div>"
      ],
      "text/plain": [
       "          file     date   time        location  zip code subspecies  health  \\\n",
       "0  041_066.png  8/28/18  16:07  Alvin, TX, USA     77511         -1       0   \n",
       "1  041_072.png  8/28/18  16:07  Alvin, TX, USA     77511         -1       0   \n",
       "2  041_073.png  8/28/18  16:07  Alvin, TX, USA     77511         -1       0   \n",
       "3  041_067.png  8/28/18  16:07  Alvin, TX, USA     77511         -1       0   \n",
       "4  041_059.png  8/28/18  16:07  Alvin, TX, USA     77511         -1       0   \n",
       "\n",
       "   pollen_carrying   caste  \n",
       "0            False  worker  \n",
       "1            False  worker  \n",
       "2            False  worker  \n",
       "3            False  worker  \n",
       "4            False  worker  "
      ]
     },
     "execution_count": 5,
     "metadata": {},
     "output_type": "execute_result"
    }
   ],
   "source": [
    "deets.head()"
   ]
  },
  {
   "cell_type": "code",
   "execution_count": 11,
   "metadata": {},
   "outputs": [],
   "source": [
    "from keras.preprocessing import image\n",
    "\n",
    "def path_to_tensor(path):\n",
    "    path = 'D:\\\\bee_imgs\\\\' + path\n",
    "    temp_im = image.load_img(path, target_size=(244,244))\n",
    "    im_array = image.img_to_array(temp_im)\n",
    "    return np.expand_dims(im_array, axis=0)\n",
    "\n",
    "def paths_to_tensors(path_list):\n",
    "    tensor_list = [path_to_tensor(img) for img in path_list]\n",
    "    return np.vstack(tensor_list)"
   ]
  },
  {
   "cell_type": "code",
   "execution_count": 138,
   "metadata": {},
   "outputs": [
    {
     "data": {
      "text/plain": [
       "{0: 'hive being robbed',\n",
       " 1: 'healthy',\n",
       " 2: 'few varrao, hive beetles',\n",
       " 3: 'ant problems',\n",
       " 4: 'missing queen',\n",
       " 5: 'Varroa, Small Hive Beetles'}"
      ]
     },
     "execution_count": 138,
     "metadata": {},
     "output_type": "execute_result"
    }
   ],
   "source": [
    "tar"
   ]
  },
  {
   "cell_type": "markdown",
   "metadata": {},
   "source": [
    "Take a sample from the bee files column for each health category."
   ]
  },
  {
   "cell_type": "code",
   "execution_count": 7,
   "metadata": {},
   "outputs": [],
   "source": [
    "healthy_sample = np.hsplit((deets[deets['health']== 1][['file', 'health']].sample(3000)), 2)\n",
    "few_varrao_sample = np.hsplit((deets[deets['health']== 2][['file', 'health']].sample(500)), 2)\n",
    "varroa_sample = np.hsplit((deets[deets['health']== 5][['file', 'health']].sample(400)), 2)\n",
    "ant_sample = np.hsplit((deets[deets['health']== 3][['file', 'health']].sample(400)),2)\n",
    "robbed_sample = np.hsplit((deets[deets['health']==0][['file', 'health']].sample(250)), 2)\n",
    "mqueen_sample = np.hsplit((deets[deets['health']==4][['file', 'health']].sample(25)), 2)"
   ]
  },
  {
   "cell_type": "markdown",
   "metadata": {},
   "source": [
    "Data was reshaped so that it was all one dimensional"
   ]
  },
  {
   "cell_type": "code",
   "execution_count": 8,
   "metadata": {},
   "outputs": [],
   "source": [
    "healthy_files, healthy_targets = np.reshape(np.array(healthy_sample[0]), 3000), np.reshape(np.array(healthy_sample[1]), 3000)\n",
    "few_varrao_files, few_varrao_targets = np.reshape(np.array(few_varrao_sample[0]), 500), np.reshape(np.array(few_varrao_sample[1]), 500)\n",
    "varroa_files, varroa_targets = np.reshape(np.array(varroa_sample[0]), 400), np.reshape(np.array(varroa_sample[1]), 400)\n",
    "ant_files, ant_targets = np.reshape(np.array(ant_sample[0]), 400), np.reshape(np.array(ant_sample[1]), 400)\n",
    "robbed_files, robbed_targets = np.reshape(np.array(robbed_sample[0]), 250), np.reshape(np.array(robbed_sample[1]), 250)\n",
    "mqueen_files, mqueen_targets = np.reshape(np.array(mqueen_sample[0]), 25), np.reshape(np.array(mqueen_sample[1]), 25)"
   ]
  },
  {
   "cell_type": "markdown",
   "metadata": {},
   "source": [
    "The seperate files were then combined and split into train, validation and test batches."
   ]
  },
  {
   "cell_type": "code",
   "execution_count": 9,
   "metadata": {},
   "outputs": [],
   "source": [
    "from keras.utils import np_utils\n",
    "\n",
    "bee_files = np.concatenate((healthy_files, few_varrao_files, varroa_files, ant_files, robbed_files, mqueen_files), axis=None)\n",
    "bee_targets = np.concatenate((healthy_targets, few_varrao_targets, varroa_targets, ant_targets, robbed_targets, mqueen_targets), axis=None)\n",
    "coded_bee_targets = np_utils.to_categorical(bee_targets, 6)\n",
    "\n",
    "\n",
    "train_targets, cross_targets, train_files, cross_files = train_test_split(coded_bee_targets, bee_files, test_size=0.2)\n",
    "val_targets, test_targets, val_files, test_files = train_test_split(cross_targets, cross_files, test_size=0.25)"
   ]
  },
  {
   "cell_type": "markdown",
   "metadata": {},
   "source": [
    "The files are then imported onto the notebook and converted into tensors"
   ]
  },
  {
   "cell_type": "code",
   "execution_count": 12,
   "metadata": {},
   "outputs": [],
   "source": [
    "train_tensors = paths_to_tensors(train_files)\n",
    "test_tensors = paths_to_tensors(test_files)\n",
    "valid_tensors = paths_to_tensors(val_files)"
   ]
  },
  {
   "cell_type": "markdown",
   "metadata": {},
   "source": [
    "Design a basic untrained model to be used as the benchmark for the transfer learnt model."
   ]
  },
  {
   "cell_type": "code",
   "execution_count": 15,
   "metadata": {},
   "outputs": [
    {
     "name": "stdout",
     "output_type": "stream",
     "text": [
      "_________________________________________________________________\n",
      "Layer (type)                 Output Shape              Param #   \n",
      "=================================================================\n",
      "conv2d_1 (Conv2D)            (None, 244, 244, 16)      448       \n",
      "_________________________________________________________________\n",
      "max_pooling2d_1 (MaxPooling2 (None, 122, 122, 16)      0         \n",
      "_________________________________________________________________\n",
      "conv2d_2 (Conv2D)            (None, 122, 122, 32)      4640      \n",
      "_________________________________________________________________\n",
      "max_pooling2d_2 (MaxPooling2 (None, 61, 61, 32)        0         \n",
      "_________________________________________________________________\n",
      "conv2d_3 (Conv2D)            (None, 61, 61, 64)        18496     \n",
      "_________________________________________________________________\n",
      "max_pooling2d_3 (MaxPooling2 (None, 30, 30, 64)        0         \n",
      "_________________________________________________________________\n",
      "conv2d_4 (Conv2D)            (None, 30, 30, 128)       73856     \n",
      "_________________________________________________________________\n",
      "max_pooling2d_4 (MaxPooling2 (None, 15, 15, 128)       0         \n",
      "_________________________________________________________________\n",
      "dropout_1 (Dropout)          (None, 15, 15, 128)       0         \n",
      "_________________________________________________________________\n",
      "flatten_1 (Flatten)          (None, 28800)             0         \n",
      "_________________________________________________________________\n",
      "dense_1 (Dense)              (None, 6)                 172806    \n",
      "=================================================================\n",
      "Total params: 270,246\n",
      "Trainable params: 270,246\n",
      "Non-trainable params: 0\n",
      "_________________________________________________________________\n"
     ]
    }
   ],
   "source": [
    "from keras.models import Sequential\n",
    "from keras.layers import Dense, Flatten, Dropout, MaxPooling2D, Conv2D, GlobalAveragePooling2D\n",
    "\n",
    "\n",
    "model = Sequential()\n",
    "\n",
    "model.add(Conv2D(filters=16, kernel_size=3, padding='same', activation='relu', input_shape=train_tensors[0].shape))\n",
    "model.add(MaxPooling2D(pool_size=2))\n",
    "model.add(Conv2D(filters=32, kernel_size=3, padding='same', activation='relu'))\n",
    "model.add(MaxPooling2D(pool_size=2))\n",
    "model.add(Conv2D(filters=64, kernel_size=3, padding='same', activation='relu'))\n",
    "model.add(MaxPooling2D(pool_size=2))\n",
    "model.add(Conv2D(filters=128, kernel_size=3, padding='same', activation='sigmoid'))\n",
    "model.add(MaxPooling2D(pool_size=2))\n",
    "model.add(Dropout(0.2))\n",
    "model.add(Flatten())\n",
    "model.add(Dense(6, activation='softmax'))\n",
    "\n",
    "model.summary()"
   ]
  },
  {
   "cell_type": "code",
   "execution_count": 42,
   "metadata": {},
   "outputs": [],
   "source": [
    "model.compile(optimizer='rmsprop', loss='categorical_crossentropy', metrics=['accuracy'])"
   ]
  },
  {
   "cell_type": "code",
   "execution_count": 43,
   "metadata": {},
   "outputs": [
    {
     "name": "stdout",
     "output_type": "stream",
     "text": [
      "Train on 3660 samples, validate on 686 samples\n",
      "Epoch 1/3\n",
      "3660/3660 [==============================] - 269s 74ms/step - loss: 5.4809 - acc: 0.6533 - val_loss: 5.8504 - val_acc: 0.6370\n",
      "\n",
      "Epoch 00001: val_loss improved from inf to 5.85045, saving model to saved_models/weights.best.from_scratch_4.hdf5\n",
      "Epoch 2/3\n",
      "3660/3660 [==============================] - 279s 76ms/step - loss: 5.4872 - acc: 0.6596 - val_loss: 5.8504 - val_acc: 0.6370\n",
      "\n",
      "Epoch 00002: val_loss did not improve from 5.85045\n",
      "Epoch 3/3\n",
      "3660/3660 [==============================] - 281s 77ms/step - loss: 5.4872 - acc: 0.6596 - val_loss: 5.8504 - val_acc: 0.6370\n",
      "\n",
      "Epoch 00003: val_loss did not improve from 5.85045\n"
     ]
    },
    {
     "data": {
      "text/plain": [
       "<keras.callbacks.History at 0x1e8a048da90>"
      ]
     },
     "execution_count": 43,
     "metadata": {},
     "output_type": "execute_result"
    }
   ],
   "source": [
    "from keras.callbacks import ModelCheckpoint\n",
    "\n",
    "epochs = 3\n",
    "\n",
    "\n",
    "checkpointer = ModelCheckpoint(filepath='saved_models/weights.best.from_scratch_4.hdf5', \n",
    "                               verbose=1, save_best_only=True)\n",
    "\n",
    "model.fit(train_tensors, train_targets, \n",
    "          validation_data=(valid_tensors, val_targets),\n",
    "          epochs=epochs, batch_size=33, callbacks=[checkpointer], verbose=1)"
   ]
  },
  {
   "cell_type": "code",
   "execution_count": 45,
   "metadata": {},
   "outputs": [],
   "source": [
    "model.load_weights('saved_models/weights.best.from_scratch_3.hdf5')"
   ]
  },
  {
   "cell_type": "code",
   "execution_count": 46,
   "metadata": {},
   "outputs": [
    {
     "name": "stdout",
     "output_type": "stream",
     "text": [
      "Test accuracy: 65.0655%\n"
     ]
    }
   ],
   "source": [
    "predictions = [np.argmax(model.predict(np.expand_dims(feature, axis=0))) for feature in test_tensors]\n",
    "\n",
    "test_accuracy = 100*np.sum(np.array(predictions)==np.argmax(test_targets, axis=1))/len(predictions)\n",
    "print('Test accuracy: %.4f%%' % test_accuracy)"
   ]
  },
  {
   "cell_type": "markdown",
   "metadata": {},
   "source": [
    "Reload the image files as 32x32 images so that they fit the shape of the cifar-10 images "
   ]
  },
  {
   "cell_type": "code",
   "execution_count": 77,
   "metadata": {},
   "outputs": [],
   "source": [
    "def path_to_tensor_cifar(path):\n",
    "    path = 'bee_imgs\\\\' + path\n",
    "    temp_im = image.load_img(path, target_size=(32,32))\n",
    "    im_array = image.img_to_array(temp_im)\n",
    "    return np.expand_dims(im_array, axis=0)\n",
    "\n",
    "def paths_to_tensors(path_list):\n",
    "    tensor_list = [path_to_tensor_cifar(img) for img in path_list]\n",
    "    return np.vstack(tensor_list)\n",
    "\n",
    "def path_to_tensor_cifar_public(path):\n",
    "    temp_im = image.load_img(path, target_size=(32,32))\n",
    "    im_array = image.img_to_array(temp_im)\n",
    "    return np.expand_dims(im_array, axis=0)"
   ]
  },
  {
   "cell_type": "code",
   "execution_count": 78,
   "metadata": {},
   "outputs": [],
   "source": [
    "transfer_train_tensors = paths_to_tensors(train_files)\n",
    "transfer_test_tensors = paths_to_tensors(test_files)\n",
    "transfer_valid_tensors = paths_to_tensors(val_files)"
   ]
  },
  {
   "cell_type": "code",
   "execution_count": 96,
   "metadata": {},
   "outputs": [
    {
     "name": "stdout",
     "output_type": "stream",
     "text": [
      "_________________________________________________________________\n",
      "Layer (type)                 Output Shape              Param #   \n",
      "=================================================================\n",
      "conv2d_132 (Conv2D)          (None, 32, 32, 16)        448       \n",
      "_________________________________________________________________\n",
      "max_pooling2d_61 (MaxPooling (None, 16, 16, 16)        0         \n",
      "_________________________________________________________________\n",
      "conv2d_133 (Conv2D)          (None, 16, 16, 32)        4640      \n",
      "_________________________________________________________________\n",
      "conv2d_134 (Conv2D)          (None, 16, 16, 32)        9248      \n",
      "_________________________________________________________________\n",
      "conv2d_135 (Conv2D)          (None, 16, 16, 32)        9248      \n",
      "_________________________________________________________________\n",
      "max_pooling2d_62 (MaxPooling (None, 8, 8, 32)          0         \n",
      "_________________________________________________________________\n",
      "conv2d_136 (Conv2D)          (None, 8, 8, 64)          18496     \n",
      "_________________________________________________________________\n",
      "conv2d_137 (Conv2D)          (None, 8, 8, 64)          36928     \n",
      "_________________________________________________________________\n",
      "conv2d_138 (Conv2D)          (None, 8, 8, 64)          36928     \n",
      "_________________________________________________________________\n",
      "max_pooling2d_63 (MaxPooling (None, 4, 4, 64)          0         \n",
      "_________________________________________________________________\n",
      "conv2d_139 (Conv2D)          (None, 4, 4, 128)         73856     \n",
      "_________________________________________________________________\n",
      "conv2d_140 (Conv2D)          (None, 4, 4, 128)         147584    \n",
      "_________________________________________________________________\n",
      "max_pooling2d_64 (MaxPooling (None, 2, 2, 128)         0         \n",
      "_________________________________________________________________\n",
      "dropout_16 (Dropout)         (None, 2, 2, 128)         0         \n",
      "_________________________________________________________________\n",
      "flatten_16 (Flatten)         (None, 512)               0         \n",
      "_________________________________________________________________\n",
      "dense_18 (Dense)             (None, 10)                5130      \n",
      "_________________________________________________________________\n",
      "dense_19 (Dense)             (None, 6)                 66        \n",
      "=================================================================\n",
      "Total params: 342,572\n",
      "Trainable params: 342,572\n",
      "Non-trainable params: 0\n",
      "_________________________________________________________________\n"
     ]
    }
   ],
   "source": [
    "transfer_model = Sequential()\n",
    "\n",
    "transfer_model.add(Conv2D(filters=16, kernel_size=3, padding='same', activation='relu', input_shape=transfer_train_tensors[0].shape))\n",
    "transfer_model.add(MaxPooling2D(pool_size=2))\n",
    "transfer_model.add(Conv2D(filters=32, kernel_size=3, padding='same', activation='relu'))\n",
    "transfer_model.add(Conv2D(filters=32, kernel_size=3, padding='same', activation='relu'))\n",
    "transfer_model.add(Conv2D(filters=32, kernel_size=3, padding='same', activation='relu'))\n",
    "transfer_model.add(MaxPooling2D(pool_size=2))\n",
    "transfer_model.add(Conv2D(filters=64, kernel_size=3, padding='same', activation='relu'))\n",
    "transfer_model.add(Conv2D(filters=64, kernel_size=3, padding='same', activation='relu'))\n",
    "transfer_model.add(Conv2D(filters=64, kernel_size=3, padding='same', activation='relu'))\n",
    "transfer_model.add(MaxPooling2D(pool_size=2))\n",
    "transfer_model.add(Conv2D(filters=128, kernel_size=3, padding='same', activation='relu'))\n",
    "transfer_model.add(Conv2D(filters=128, kernel_size=3, padding='same', activation='relu'))\n",
    "transfer_model.add(MaxPooling2D(pool_size=2))\n",
    "transfer_model.add(Dropout(0.2))\n",
    "transfer_model.add(Flatten())\n",
    "transfer_model.add(Dense(10, activation='relu'))\n",
    "\n",
    "# load the pre-trained weights onto the model\n",
    "transfer_model.load_weights('saved_models/weights.best.cifar_7.hdf5')\n",
    "\n",
    "transfer_model.add(Dense(6, activation='softmax'))\n",
    "\n",
    "transfer_model.summary()"
   ]
  },
  {
   "cell_type": "code",
   "execution_count": 97,
   "metadata": {},
   "outputs": [],
   "source": [
    "transfer_model.compile(optimizer='rmsprop', loss='categorical_crossentropy', metrics=['accuracy'])"
   ]
  },
  {
   "cell_type": "code",
   "execution_count": 98,
   "metadata": {},
   "outputs": [
    {
     "name": "stdout",
     "output_type": "stream",
     "text": [
      "Train on 3660 samples, validate on 686 samples\n",
      "Epoch 1/10\n",
      "3660/3660 [==============================] - 68s 19ms/step - loss: 1.7359 - acc: 0.6478 - val_loss: 1.6841 - val_acc: 0.6662\n",
      "\n",
      "Epoch 00001: val_loss improved from inf to 1.68412, saving model to saved_models/weights.best.transfer_4.hdf5\n",
      "Epoch 2/10\n",
      "3660/3660 [==============================] - 64s 17ms/step - loss: 1.6410 - acc: 0.6536 - val_loss: 1.5917 - val_acc: 0.6662\n",
      "\n",
      "Epoch 00002: val_loss improved from 1.68412 to 1.59167, saving model to saved_models/weights.best.transfer_4.hdf5\n",
      "Epoch 3/10\n",
      "3660/3660 [==============================] - 63s 17ms/step - loss: 1.5553 - acc: 0.6536 - val_loss: 1.5075 - val_acc: 0.6662\n",
      "\n",
      "Epoch 00003: val_loss improved from 1.59167 to 1.50749, saving model to saved_models/weights.best.transfer_4.hdf5\n",
      "Epoch 4/10\n",
      "3660/3660 [==============================] - 62s 17ms/step - loss: 1.4774 - acc: 0.6536 - val_loss: 1.4320 - val_acc: 0.6662\n",
      "\n",
      "Epoch 00004: val_loss improved from 1.50749 to 1.43203, saving model to saved_models/weights.best.transfer_4.hdf5\n",
      "Epoch 5/10\n",
      "3660/3660 [==============================] - 64s 17ms/step - loss: 1.4084 - acc: 0.6536 - val_loss: 1.3657 - val_acc: 0.6662\n",
      "\n",
      "Epoch 00005: val_loss improved from 1.43203 to 1.36573, saving model to saved_models/weights.best.transfer_4.hdf5\n",
      "Epoch 6/10\n",
      "3660/3660 [==============================] - 64s 17ms/step - loss: 1.3495 - acc: 0.6536 - val_loss: 1.3101 - val_acc: 0.6662\n",
      "\n",
      "Epoch 00006: val_loss improved from 1.36573 to 1.31006, saving model to saved_models/weights.best.transfer_4.hdf5\n",
      "Epoch 7/10\n",
      "3660/3660 [==============================] - 63s 17ms/step - loss: 1.2996 - acc: 0.6536 - val_loss: 1.2632 - val_acc: 0.6662\n",
      "\n",
      "Epoch 00007: val_loss improved from 1.31006 to 1.26323, saving model to saved_models/weights.best.transfer_4.hdf5\n",
      "Epoch 8/10\n",
      "3660/3660 [==============================] - 63s 17ms/step - loss: 1.2604 - acc: 0.6536 - val_loss: 1.2269 - val_acc: 0.6662\n",
      "\n",
      "Epoch 00008: val_loss improved from 1.26323 to 1.22688, saving model to saved_models/weights.best.transfer_4.hdf5\n",
      "Epoch 9/10\n",
      "3660/3660 [==============================] - 64s 17ms/step - loss: 1.2292 - acc: 0.6536 - val_loss: 1.1979 - val_acc: 0.6662\n",
      "\n",
      "Epoch 00009: val_loss improved from 1.22688 to 1.19785, saving model to saved_models/weights.best.transfer_4.hdf5\n",
      "Epoch 10/10\n",
      "3660/3660 [==============================] - 63s 17ms/step - loss: 1.2055 - acc: 0.6536 - val_loss: 1.1763 - val_acc: 0.6662\n",
      "\n",
      "Epoch 00010: val_loss improved from 1.19785 to 1.17625, saving model to saved_models/weights.best.transfer_4.hdf5\n"
     ]
    },
    {
     "data": {
      "text/plain": [
       "<keras.callbacks.History at 0x1366f02c080>"
      ]
     },
     "execution_count": 98,
     "metadata": {},
     "output_type": "execute_result"
    }
   ],
   "source": [
    "from keras.callbacks import ModelCheckpoint\n",
    "\n",
    "epochs = 10\n",
    "\n",
    "\n",
    "checkpointer = ModelCheckpoint(filepath='saved_models/weights.best.transfer_4.hdf5', \n",
    "                               verbose=1, save_best_only=True)\n",
    "\n",
    "transfer_model.fit(transfer_train_tensors, train_targets, \n",
    "          validation_data=(transfer_valid_tensors, val_targets),\n",
    "          epochs=epochs, batch_size=33, callbacks=[checkpointer], verbose=1)"
   ]
  },
  {
   "cell_type": "markdown",
   "metadata": {},
   "source": [
    "This is the accuracy of the same model without transfer learning applied."
   ]
  },
  {
   "cell_type": "code",
   "execution_count": 36,
   "metadata": {},
   "outputs": [
    {
     "name": "stdout",
     "output_type": "stream",
     "text": [
      "Test accuracy: 87.3362%\n"
     ]
    }
   ],
   "source": [
    "predictions = [np.argmax(transfer_model.predict(np.expand_dims(feature, axis=0))) for feature in transfer_test_tensors]\n",
    "\n",
    "test_accuracy = 100*np.sum(np.array(predictions)==np.argmax(test_targets, axis=1))/len(predictions)\n",
    "print('Test accuracy: %.4f%%' % test_accuracy)"
   ]
  },
  {
   "cell_type": "markdown",
   "metadata": {},
   "source": [
    "This is the accuracy with transfer learning applied"
   ]
  },
  {
   "cell_type": "code",
   "execution_count": 99,
   "metadata": {},
   "outputs": [
    {
     "name": "stdout",
     "output_type": "stream",
     "text": [
      "Test accuracy: 65.9389%\n"
     ]
    }
   ],
   "source": [
    "predictions = [np.argmax(transfer_model.predict(np.expand_dims(feature, axis=0))) for feature in transfer_test_tensors]\n",
    "\n",
    "test_accuracy = 100*np.sum(np.array(predictions)==np.argmax(test_targets, axis=1))/len(predictions)\n",
    "print('Test accuracy: %.4f%%' % test_accuracy)"
   ]
  },
  {
   "cell_type": "markdown",
   "metadata": {},
   "source": [
    "A function to use the trained network weights to predict the health state of the bee hive"
   ]
  },
  {
   "cell_type": "code",
   "execution_count": 55,
   "metadata": {},
   "outputs": [],
   "source": [
    "def bee_predictor(path):\n",
    "    transfer_model.load_weights('saved_models/weights.best.transfer_1.hdf5')\n",
    "    temp_tensor = path_to_tensor_cifar_public(path)\n",
    "    predicted_health = transfer_model.predict(temp_tensor)\n",
    "    im = mpimg.imread(path)\n",
    "    plt.imshow(im)\n",
    "    plt.show()\n",
    "    return 'This bee is likely to be ' + tar[np.argmax(predicted_health)]"
   ]
  },
  {
   "cell_type": "markdown",
   "metadata": {},
   "source": [
    "Now the success of the model can be visualised"
   ]
  },
  {
   "cell_type": "code",
   "execution_count": 69,
   "metadata": {},
   "outputs": [
    {
     "data": {
      "image/png": "[encoded data removed]",
      "text/plain": [
       "<Figure size 432x288 with 1 Axes>"
      ]
     },
     "metadata": {
      "needs_background": "light"
     },
     "output_type": "display_data"
    },
    {
     "data": {
      "text/plain": [
       "'This bee is likely to be ant problems'"
      ]
     },
     "execution_count": 69,
     "metadata": {},
     "output_type": "execute_result"
    }
   ],
   "source": [
    "bee_predictor('bee_imgs/030_204.png')"
   ]
  },
  {
   "cell_type": "code",
   "execution_count": 72,
   "metadata": {},
   "outputs": [
    {
     "data": {
      "image/png": "[encoded data removed]",
      "text/plain": [
       "<Figure size 432x288 with 1 Axes>"
      ]
     },
     "metadata": {
      "needs_background": "light"
     },
     "output_type": "display_data"
    },
    {
     "data": {
      "text/plain": [
       "'This bee is likely to be Varroa, Small Hive Beetles'"
      ]
     },
     "execution_count": 72,
     "metadata": {},
     "output_type": "execute_result"
    }
   ],
   "source": [
    "bee_predictor('bee_imgs/038_362.png')"
   ]
  },
  {
   "cell_type": "code",
   "execution_count": 73,
   "metadata": {},
   "outputs": [
    {
     "data": {
      "image/png": "[encoded data removed]",
      "text/plain": [
       "<Figure size 432x288 with 1 Axes>"
      ]
     },
     "metadata": {
      "needs_background": "light"
     },
     "output_type": "display_data"
    },
    {
     "data": {
      "text/plain": [
       "'This bee is likely to be healthy'"
      ]
     },
     "execution_count": 73,
     "metadata": {},
     "output_type": "execute_result"
    }
   ],
   "source": [
    "bee_predictor('bee_imgs/004_411.png')"
   ]
  },
  {
   "cell_type": "code",
   "execution_count": 75,
   "metadata": {},
   "outputs": [
    {
     "data": {
      "image/png": "[encoded data removed]",
      "text/plain": [
       "<Figure size 432x288 with 1 Axes>"
      ]
     },
     "metadata": {
      "needs_background": "light"
     },
     "output_type": "display_data"
    },
    {
     "data": {
      "text/plain": [
       "'This bee is likely to be missing queen'"
      ]
     },
     "execution_count": 75,
     "metadata": {},
     "output_type": "execute_result"
    }
   ],
   "source": [
    "bee_predictor('bee_imgs/034_032.png')"
   ]
  },
  {
   "cell_type": "markdown",
   "metadata": {},
   "source": [
    "An untrained version of the transfer learning model was trained on the data just for experimentation and this model outpreformed all of the models developed in this project."
   ]
  },
  {
   "cell_type": "code",
   "execution_count": 116,
   "metadata": {
    "scrolled": true
   },
   "outputs": [
    {
     "name": "stdout",
     "output_type": "stream",
     "text": [
      "_________________________________________________________________\n",
      "Layer (type)                 Output Shape              Param #   \n",
      "=================================================================\n",
      "conv2d_186 (Conv2D)          (None, 32, 32, 16)        448       \n",
      "_________________________________________________________________\n",
      "max_pooling2d_85 (MaxPooling (None, 16, 16, 16)        0         \n",
      "_________________________________________________________________\n",
      "conv2d_187 (Conv2D)          (None, 16, 16, 32)        4640      \n",
      "_________________________________________________________________\n",
      "conv2d_188 (Conv2D)          (None, 16, 16, 32)        9248      \n",
      "_________________________________________________________________\n",
      "conv2d_189 (Conv2D)          (None, 16, 16, 32)        9248      \n",
      "_________________________________________________________________\n",
      "max_pooling2d_86 (MaxPooling (None, 8, 8, 32)          0         \n",
      "_________________________________________________________________\n",
      "conv2d_190 (Conv2D)          (None, 8, 8, 64)          18496     \n",
      "_________________________________________________________________\n",
      "conv2d_191 (Conv2D)          (None, 8, 8, 64)          36928     \n",
      "_________________________________________________________________\n",
      "conv2d_192 (Conv2D)          (None, 8, 8, 64)          36928     \n",
      "_________________________________________________________________\n",
      "max_pooling2d_87 (MaxPooling (None, 4, 4, 64)          0         \n",
      "_________________________________________________________________\n",
      "conv2d_193 (Conv2D)          (None, 4, 4, 128)         73856     \n",
      "_________________________________________________________________\n",
      "conv2d_194 (Conv2D)          (None, 4, 4, 128)         147584    \n",
      "_________________________________________________________________\n",
      "max_pooling2d_88 (MaxPooling (None, 2, 2, 128)         0         \n",
      "_________________________________________________________________\n",
      "dropout_22 (Dropout)         (None, 2, 2, 128)         0         \n",
      "_________________________________________________________________\n",
      "flatten_22 (Flatten)         (None, 512)               0         \n",
      "_________________________________________________________________\n",
      "dense_25 (Dense)             (None, 6)                 3078      \n",
      "=================================================================\n",
      "Total params: 340,454\n",
      "Trainable params: 340,454\n",
      "Non-trainable params: 0\n",
      "_________________________________________________________________\n"
     ]
    }
   ],
   "source": [
    "transfer_model2 = Sequential()\n",
    "\n",
    "transfer_model2.add(Conv2D(filters=16, kernel_size=3, padding='same', activation='relu', input_shape=transfer_train_tensors[0].shape))\n",
    "transfer_model2.add(MaxPooling2D(pool_size=2))\n",
    "transfer_model2.add(Conv2D(filters=32, kernel_size=3, padding='same', activation='relu'))\n",
    "transfer_model2.add(Conv2D(filters=32, kernel_size=3, padding='same', activation='relu'))\n",
    "transfer_model2.add(Conv2D(filters=32, kernel_size=3, padding='same', activation='relu'))\n",
    "transfer_model2.add(MaxPooling2D(pool_size=2))\n",
    "transfer_model2.add(Conv2D(filters=64, kernel_size=3, padding='same', activation='relu'))\n",
    "transfer_model2.add(Conv2D(filters=64, kernel_size=3, padding='same', activation='relu'))\n",
    "transfer_model2.add(Conv2D(filters=64, kernel_size=3, padding='same', activation='relu'))\n",
    "transfer_model2.add(MaxPooling2D(pool_size=2))\n",
    "transfer_model2.add(Conv2D(filters=128, kernel_size=3, padding='same', activation='relu'))\n",
    "transfer_model2.add(Conv2D(filters=128, kernel_size=3, padding='same', activation='relu'))\n",
    "transfer_model2.add(MaxPooling2D(pool_size=2))\n",
    "transfer_model2.add(Dropout(0.2))\n",
    "transfer_model2.add(Flatten())\n",
    "transfer_model2.add(Dense(6, activation='softmax'))\n",
    "\n",
    "transfer_model2.summary()"
   ]
  },
  {
   "cell_type": "code",
   "execution_count": 117,
   "metadata": {},
   "outputs": [],
   "source": [
    "transfer_model2.compile(optimizer='rmsprop', loss='categorical_crossentropy', metrics=['accuracy'])"
   ]
  },
  {
   "cell_type": "code",
   "execution_count": 118,
   "metadata": {
    "scrolled": true
   },
   "outputs": [
    {
     "name": "stdout",
     "output_type": "stream",
     "text": [
      "Train on 3660 samples, validate on 686 samples\n",
      "Epoch 1/10\n",
      "3660/3660 [==============================] - 35s 10ms/step - loss: 1.2917 - acc: 0.6426 - val_loss: 0.8067 - val_acc: 0.7070\n",
      "\n",
      "Epoch 00001: val_loss improved from inf to 0.80669, saving model to saved_models/weights.best.transfer_untrained_2.hdf5\n",
      "Epoch 2/10\n",
      "3660/3660 [==============================] - 31s 9ms/step - loss: 0.7348 - acc: 0.7287 - val_loss: 0.5671 - val_acc: 0.7784\n",
      "\n",
      "Epoch 00002: val_loss improved from 0.80669 to 0.56709, saving model to saved_models/weights.best.transfer_untrained_2.hdf5\n",
      "Epoch 3/10\n",
      "3660/3660 [==============================] - 31s 8ms/step - loss: 0.5458 - acc: 0.7937 - val_loss: 0.3847 - val_acc: 0.8455\n",
      "\n",
      "Epoch 00003: val_loss improved from 0.56709 to 0.38471, saving model to saved_models/weights.best.transfer_untrained_2.hdf5\n",
      "Epoch 4/10\n",
      "3660/3660 [==============================] - 31s 8ms/step - loss: 0.4216 - acc: 0.8287 - val_loss: 0.8376 - val_acc: 0.7697\n",
      "\n",
      "Epoch 00004: val_loss did not improve from 0.38471\n",
      "Epoch 5/10\n",
      "3660/3660 [==============================] - 31s 8ms/step - loss: 0.3712 - acc: 0.8634 - val_loss: 0.3287 - val_acc: 0.8746\n",
      "\n",
      "Epoch 00005: val_loss improved from 0.38471 to 0.32870, saving model to saved_models/weights.best.transfer_untrained_2.hdf5\n",
      "Epoch 6/10\n",
      "3660/3660 [==============================] - 30s 8ms/step - loss: 0.3227 - acc: 0.8740 - val_loss: 0.2793 - val_acc: 0.8965\n",
      "\n",
      "Epoch 00006: val_loss improved from 0.32870 to 0.27931, saving model to saved_models/weights.best.transfer_untrained_2.hdf5\n",
      "Epoch 7/10\n",
      "3660/3660 [==============================] - 30s 8ms/step - loss: 0.2991 - acc: 0.8842 - val_loss: 0.5346 - val_acc: 0.8047\n",
      "\n",
      "Epoch 00007: val_loss did not improve from 0.27931\n",
      "Epoch 8/10\n",
      "3660/3660 [==============================] - 31s 8ms/step - loss: 0.2655 - acc: 0.9000 - val_loss: 0.3054 - val_acc: 0.8965\n",
      "\n",
      "Epoch 00008: val_loss did not improve from 0.27931\n",
      "Epoch 9/10\n",
      "3660/3660 [==============================] - 31s 9ms/step - loss: 0.2250 - acc: 0.9199 - val_loss: 0.2662 - val_acc: 0.9198\n",
      "\n",
      "Epoch 00009: val_loss improved from 0.27931 to 0.26623, saving model to saved_models/weights.best.transfer_untrained_2.hdf5\n",
      "Epoch 10/10\n",
      "3660/3660 [==============================] - 31s 8ms/step - loss: 0.2203 - acc: 0.9153 - val_loss: 0.2599 - val_acc: 0.9213\n",
      "\n",
      "Epoch 00010: val_loss improved from 0.26623 to 0.25985, saving model to saved_models/weights.best.transfer_untrained_2.hdf5\n"
     ]
    },
    {
     "data": {
      "text/plain": [
       "<keras.callbacks.History at 0x13675ddc2b0>"
      ]
     },
     "execution_count": 118,
     "metadata": {},
     "output_type": "execute_result"
    }
   ],
   "source": [
    "epochs = 10\n",
    "\n",
    "\n",
    "checkpointer = ModelCheckpoint(filepath='saved_models/weights.best.transfer_untrained_2.hdf5', \n",
    "                               verbose=1, save_best_only=True)\n",
    "\n",
    "transfer_model2.fit(transfer_train_tensors, train_targets, \n",
    "          validation_data=(transfer_valid_tensors, val_targets),\n",
    "          epochs=epochs, batch_size=33, callbacks=[checkpointer], verbose=1)"
   ]
  },
  {
   "cell_type": "markdown",
   "metadata": {},
   "source": [
    "With an accuracy of 93%, clearly the models developed by the industry leaders are a result of rigorous testing and experimentation."
   ]
  },
  {
   "cell_type": "code",
   "execution_count": 119,
   "metadata": {},
   "outputs": [
    {
     "name": "stdout",
     "output_type": "stream",
     "text": [
      "Test accuracy: 93.0131%\n"
     ]
    }
   ],
   "source": [
    "predictions = [np.argmax(transfer_model2.predict(np.expand_dims(feature, axis=0))) for feature in transfer_test_tensors]\n",
    "\n",
    "test_accuracy = 100*np.sum(np.array(predictions)==np.argmax(test_targets, axis=1))/len(predictions)\n",
    "print('Test accuracy: %.4f%%' % test_accuracy)"
   ]
  }
 ],
 "metadata": {
  "kernelspec": {
   "display_name": "Python 3",
   "language": "python",
   "name": "python3"
  },
  "language_info": {
   "codemirror_mode": {
    "name": "ipython",
    "version": 3
   },
   "file_extension": ".py",
   "mimetype": "text/x-python",
   "name": "python",
   "nbconvert_exporter": "python",
   "pygments_lexer": "ipython3",
   "version": "3.6.7"
  }
 },
 "nbformat": 4,
 "nbformat_minor": 2
}
